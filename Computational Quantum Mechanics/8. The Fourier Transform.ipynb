{
 "cells": [
  {
   "cell_type": "markdown",
   "metadata": {},
   "source": [
    "# Chapter 8: The Fourier Transform"
   ]
  },
  {
   "cell_type": "markdown",
   "metadata": {},
   "source": [
    "Introduction of discrete Fourier transform as well as the efficient Fast Fourier Transform (FFT) algorithm.\n",
    "\\begin{align}\n",
    "\\psi(x,t) =& \\frac{1}{\\sqrt{2\\pi\\hbar}}\\int_{-\\infty}^{\\infty} \\phi(p,t)e^{ipx/\\hbar} dp \\\\\n",
    "\\phi(p,t) =& \\frac{1}{\\sqrt{2\\pi\\hbar}}\\int_{-\\infty}^{\\infty} \\psi(x,t)e^{-ipx/\\hbar} dp \\\\\n",
    "\\end{align}\n",
    "\n",
    "Things to consider: \n",
    "\n",
    "- discretized the system to replace the continuous function $\\psi(x,t)$ and $\\phi(p,t)$ with discretized functions. \n",
    "- infinite domain of integration\n",
    "\n",
    "FT provides a relationship between: \n",
    "1. x and k (or p)\n",
    "2. t and  $\\omega$ (or E).\n",
    "\n",
    "Using deBroglie equation: $p=\\hbar k$, FT can be written in terms of x and k: \n",
    "\\begin{align}\n",
    "\\psi(x,t) =& \\frac{1}{\\sqrt{2\\pi}}\\int_{-\\infty}^{\\infty} \\phi(k,t)e^{ikx} dk \\\\\n",
    "\\phi(k,t) =& \\frac{1}{\\sqrt{2\\pi}}\\int_{-\\infty}^{\\infty} \\psi(x,t)e^{-ikx} dx \\\\\n",
    "\\end{align}\n",
    "\n",
    "Let's limit the domain of the integration by pacifying the infinities such that: $-x_{max} \\leq x \\leq x_{max}$ and $-k_{max}\\leq k \\leq k_{max}$\n",
    "\\begin{align}\n",
    "\\psi(x,t) \\approx & \\frac{1}{\\sqrt{2\\pi}}\\int_{-\\infty}^{\\infty} \\phi(k,t)e^{ikx} dk \\rightarrow \\psi_n = \\frac{\\triangle x}{\\sqrt{2\\pi}} \\Sigma_{m=0}^{N-1} \\phi_m e^{ik_m x_n} \\\\\n",
    "\\phi(k,t) \\approx & \\frac{1}{\\sqrt{2\\pi}}\\int_{-\\infty}^{\\infty} \\psi(x,t)e^{-ikx} dx \\rightarrow \\phi_n = \\frac{\\triangle k}{\\sqrt{2\\pi}} \\Sigma_{n=0}^{N-1} \\psi_n e^{-ik_m x_n} \\\\ \\\\\n",
    "\\end{align}\n",
    "\n",
    "\n",
    "## Momentum space sampling: \n",
    "For a consistent approximation the following condition must be satisfied: \n",
    "\\begin{equation}\n",
    "\\triangle x \\triangle k = \\frac{2\\pi}{N}\n",
    "\\end{equation}\n",
    "Note: in effect, the more closely we sample our wavefunction in position space, the more distant our sampling is in momentum space. Choosing $\\triangle x$ is therefore a careful balancing act --- we want it to be small enought to accurately represent our wavefunction, but large enough so that we also accurately sample the resulting discretized Fourier transform. How do we do this?\n",
    "\n",
    "## The Nyquist Theorem\n",
    "If one knows in advance a particular value of $k_{max}$ such that, for all $|k_m| > |k_{max}|,|\\phi(k_m)=0|$. In such a case, we can see from the Nyquist momentum that we simply need to choose: \n",
    "\\begin{equation}\n",
    "\\triangle x \\leq \\frac{\\pi}{k_max}\n",
    "\\end{equation}\n",
    "This is referred to as the Nyquist theorem, or the Nyquist condition, and is the crux of the Nyquist-Shannon sampling theorem. \n"
   ]
  },
  {
   "cell_type": "code",
   "execution_count": 17,
   "metadata": {},
   "outputs": [],
   "source": [
    "# Example 8.2: Discretized Fourier transform (Python)\n",
    "import numpy as np\n",
    "import matplotlib.pyplot as plt\n",
    "'''\n",
    "Use Fourier differentitation to find the momentum-space representation \\phi_k of the wavefunction \\psi(x) = exp(-x**2/2)x\n",
    "sin(4x) over the domain -5<= x <= 5 with N=201 discretized points. \n",
    "'''\n",
    "# define the properties\n",
    "N = 201 \n",
    "a = (N-1)/2 \n",
    "dx = (5-(-5))/(N-1)\n",
    "\n",
    "# define the x-grid and discretized wavefunctions \n",
    "x = np.arange(-5,5+dx,dx)\n",
    "psi = np.exp(-(x**2)/2)*np.sin(4*x)\n",
    "\n",
    "# define the k-grid \n",
    "dk = 2*np.pi/N*dx\n",
    "kmax = np.pi/dx \n",
    "k  = np.arange(-kmax,kmax,dk)\n",
    "\n",
    "# the 2-dimensional Fourier matrix using broadcasting\n",
    "n = np.arange(N).reshape((-1,1))\n",
    "m = np.arange(N).reshape((1,-1))\n",
    "W = np.exp(-2j*np.pi*(m-a)*(n-a)/N)\n",
    "\n",
    "# perform the discretized Fourier algorithm \n",
    "# psi is indexed by n \n",
    "psi = psi.reshape(-1,1)\n",
    "\n",
    "# sum over n axis \n",
    "phi = np.sum(psi*W, axis=0)*dk/(np.sqrt(2*np.pi))"
   ]
  },
  {
   "cell_type": "code",
   "execution_count": 19,
   "metadata": {},
   "outputs": [
    {
     "name": "stderr",
     "output_type": "stream",
     "text": [
      "C:\\Users\\Lenovo\\Anaconda3\\lib\\site-packages\\numpy\\core\\numeric.py:492: ComplexWarning: Casting complex values to real discards the imaginary part\n",
      "  return array(a, dtype, copy=False, order=order)\n"
     ]
    },
    {
     "data": {
      "text/plain": [
       "[<matplotlib.lines.Line2D at 0x244310f8c18>]"
      ]
     },
     "execution_count": 19,
     "metadata": {},
     "output_type": "execute_result"
    },
    {
     "data": {
      "image/png": "[encoded data removed]",
      "text/plain": [
       "<Figure size 432x288 with 1 Axes>"
      ]
     },
     "metadata": {},
     "output_type": "display_data"
    }
   ],
   "source": [
    "plt.plot(psi)"
   ]
  },
  {
   "cell_type": "code",
   "execution_count": 20,
   "metadata": {},
   "outputs": [
    {
     "name": "stderr",
     "output_type": "stream",
     "text": [
      "C:\\Users\\Lenovo\\Anaconda3\\lib\\site-packages\\numpy\\core\\numeric.py:492: ComplexWarning: Casting complex values to real discards the imaginary part\n",
      "  return array(a, dtype, copy=False, order=order)\n"
     ]
    },
    {
     "data": {
      "text/plain": [
       "[<matplotlib.lines.Line2D at 0x24431166278>]"
      ]
     },
     "execution_count": 20,
     "metadata": {},
     "output_type": "execute_result"
    },
    {
     "data": {
      "image/png": "[encoded data removed]",
      "text/plain": [
       "<Figure size 432x288 with 1 Axes>"
      ]
     },
     "metadata": {},
     "output_type": "display_data"
    }
   ],
   "source": [
    "plt.plot(phi)"
   ]
  },
  {
   "cell_type": "code",
   "execution_count": 23,
   "metadata": {},
   "outputs": [
    {
     "data": {
      "text/plain": [
       "numpy.ndarray"
      ]
     },
     "execution_count": 23,
     "metadata": {},
     "output_type": "execute_result"
    }
   ],
   "source": [
    "type(psi[0])"
   ]
  },
  {
   "cell_type": "code",
   "execution_count": null,
   "metadata": {},
   "outputs": [],
   "source": []
  }
 ],
 "metadata": {
  "kernelspec": {
   "display_name": "Python 3",
   "language": "python",
   "name": "python3"
  },
  "language_info": {
   "codemirror_mode": {
    "name": "ipython",
    "version": 3
   },
   "file_extension": ".py",
   "mimetype": "text/x-python",
   "name": "python",
   "nbconvert_exporter": "python",
   "pygments_lexer": "ipython3",
   "version": "3.6.5"
  }
 },
 "nbformat": 4,
 "nbformat_minor": 2
}
