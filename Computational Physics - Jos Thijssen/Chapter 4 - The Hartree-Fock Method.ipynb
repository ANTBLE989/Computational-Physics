{
 "cells": [
  {
   "cell_type": "markdown",
   "metadata": {},
   "source": [
    "# Chapter 4 - The Hartree-Fock method"
   ]
  },
  {
   "cell_type": "code",
   "execution_count": 60,
   "metadata": {},
   "outputs": [],
   "source": [
    "import numpy as np\n",
    "import matplotlib.pyplot as plt\n",
    "from numpy import linalg as LA\n",
    "from scipy.linalg import eigh"
   ]
  },
  {
   "cell_type": "markdown",
   "metadata": {},
   "source": [
    "## 4.3.2 A program for calculating the helium ground state\n",
    "\n",
    "\\begin{align}\n",
    "\\sum_{pq} \\left( h_{pq}+\\sum_{rs}C_r C_s Q_{prqs}\\right)C_q = E'\\sum_{pq}S_{pq}C_q\n",
    "\\end{align}\n",
    "\n",
    "where: \n",
    "\\begin{align}\n",
    "h_{pq} &= 3\\frac{\\alpha_p \\alpha_q \\pi^{3/2}}{(\\alpha_p + \\alpha_q)^{5/2}} \\\\\n",
    "Q_{prqs} &= \\frac{2\\pi^{5/2}}{(\\alpha_p+\\alpha_q)(\\alpha_r+\\alpha_s)\\sqrt{\\alpha_p+\\alpha_q+\\alpha_r+\\alpha_s}}\\\\\n",
    "S_{pq} &= \\left( \\frac{\\pi}{\\alpha_p+\\alpha_q} \\right)^{3/2}\n",
    "\\end{align}\n",
    "\n",
    "the optimal values for $\\alpha$'s are: \n",
    "\\begin{align}\n",
    "\\alpha_1 &= 0.298073\\\\\n",
    "\\alpha_2 &= 1.242567\\\\\n",
    "\\alpha_3 &= 5.782948\\\\\n",
    "\\alpha_4 &= 38.474970\n",
    "\\end{align}\n",
    "\n",
    "The program is constructed as follows: "
   ]
  },
  {
   "cell_type": "code",
   "execution_count": 120,
   "metadata": {},
   "outputs": [
    {
     "data": {
      "text/plain": [
       "7.799940747037277"
      ]
     },
     "execution_count": 120,
     "metadata": {},
     "output_type": "execute_result"
    }
   ],
   "source": [
    "# 1. First, the 4x4 matrices h_pq,S_pq and the 4x4x4x4 array Q_prqs are calculated\n",
    "\n",
    "\n",
    "def hamiltonian(alpha,p,q):\n",
    "    return 3*(alpha[p]*alpha[q]*np.pi**(3/2))/(alpha[p]+alpha[q])**(5/2)\n",
    "\n",
    "def overlap_integral(alpha,p,q):\n",
    "    return (np.pi/(alpha[p]+alpha[q]))**(3/2)\n",
    "\n",
    "def hatree_potential(alpha,p,q,r,s):\n",
    "    return (2*np.pi**(5/2))/((alpha[p]+alpha[q])*(alpha[r]+alpha[s])*np.sqrt(alpha[p]+alpha[q]+alpha[r]+alpha[s]))\n",
    "\n",
    "H = np.zeros((4,4))\n",
    "S = np.zeros((4,4))\n",
    "Q = np.zeros((4,4,4,4))\n",
    "alpha = [0.298073,1.242567,5.782948,38.474970]\n",
    "\n",
    "for p in range(4):\n",
    "    for q in range(4):\n",
    "        H[p,q] = hamiltonian(alpha,p,q)\n",
    "        S[p,q] = overlap_integral(alpha,p,q)\n",
    "\n",
    "for p in range(4):\n",
    "    for q in range(4):\n",
    "        for r in range(4):\n",
    "            for s in range(4):\n",
    "                Q[p,q,r,s] = hatree_potential(alpha,p,q,r,s)\n",
    "                \n",
    "# 2. the initial values for C_p are chosen; they can, for example, all be take to be eqal\n",
    "def normalization(C,S):\n",
    "    s=0\n",
    "    for p in range(4):\n",
    "        for q in range(4):\n",
    "            s+=C[p]*S[p,q]*C[q]\n",
    "    return s\n",
    "'''\n",
    "should be kept in mind that vector C should always be normalized to unit via\n",
    "the overlap matrix before inserting it\n",
    "'''\n",
    "dE = 1\n",
    "Enew = 0\n",
    "Eold = 0\n",
    "C = [1,1,1,1]\n",
    "Cnorm = np.array(C)/(np.sqrt(normalization(C,S)))\n",
    "\n",
    "# 3. This C-values are used for constructing the matrix F_pq given by\n",
    "F = np.zeros((4,4))\n",
    "qsum = 0 \n",
    "for p in range(4):\n",
    "    for q in range(4):\n",
    "        for r in range(4):\n",
    "            for s in range(4):\n",
    "                qsum += Q[p,q,r,s]*C[r]*C[s]\n",
    "        F[p,q] = H[p,q] + qsum     \n",
    "\n",
    "        # 4. Now we can solved the generalized eigenvalue problem: FC = E'SC\n",
    "eigvals, eigvecs = eigh(F, S, eigvals_only=False)\n",
    "\n",
    "Cnew = eigvecs[:,0]\n",
    "hsum = 0\n",
    "qsum = 0\n",
    "\n",
    "for p in range(4):\n",
    "    for q in range(4):\n",
    "        for r in range(4):\n",
    "            for s in range(4):\n",
    "                qsum = qsum + Q[p,q,r,s]*Cnew[p]*Cnew[q]*Cnew[r]*Cnew[s]\n",
    "                \n",
    "for p in range(4):\n",
    "    for q in range(4):\n",
    "        hsum += Cnew[p]*Cnew[q]*H[p,q]\n",
    "        \n",
    "Eg = 2*hsum + qsum\n",
    "Eg"
   ]
  },
  {
   "cell_type": "code",
   "execution_count": 114,
   "metadata": {},
   "outputs": [
    {
     "data": {
      "text/plain": [
       "array([-5.24842550e-02,  2.28579038e+00,  1.44426758e+01,  5.95813984e+04])"
      ]
     },
     "execution_count": 114,
     "metadata": {},
     "output_type": "execute_result"
    }
   ],
   "source": [
    "while dE > 1.0e-03:\n",
    "    for p in range(4):\n",
    "        for q in range(4):\n",
    "            for r in range(4):\n",
    "                for s in range(4):\n",
    "                    qsum += Q[p,q,r,s]*C[r]*C[s]\n",
    "            F[p,q] = H[p,q] + qsum     \n",
    "# 4. Now we can solved the generalized eigenvalue problem: FC = E'SC\n",
    "    eigvals, eigvecs = eigh(F, S, eigvals_only=False)\n",
    "    \n",
    "    Enew = eigvals[0]\n",
    "    dE = abs(Enew-Eold)\n",
    "    \n",
    "    Eold = Enew\n",
    "    C = eigvecs[:,0] # for the ground-state\n",
    "eigvals"
   ]
  },
  {
   "cell_type": "code",
   "execution_count": 117,
   "metadata": {},
   "outputs": [
    {
     "data": {
      "text/plain": [
       "1.4422973215539585"
      ]
     },
     "execution_count": 117,
     "metadata": {},
     "output_type": "execute_result"
    }
   ],
   "source": [
    "Cnew = C\n",
    "hsum = 0\n",
    "qsum = 0\n",
    "\n",
    "for p in range(4):\n",
    "    for q in range(4):\n",
    "        for r in range(4):\n",
    "            for s in range(4):\n",
    "                qsum = qsum + Q[p,q,r,s]*Cnew[p]*Cnew[q]*Cnew[r]*Cnew[s]\n",
    "                \n",
    "for p in range(4):\n",
    "    for q in range(4):\n",
    "        hsum += Cnew[p]*Cnew[q]*H[p,q]\n",
    "        \n",
    "Eg = 2*hsum + qsum\n",
    "Eg"
   ]
  },
  {
   "cell_type": "markdown",
   "metadata": {},
   "source": [
    "## Concept of Basis\n",
    "\n",
    "From: http://nznano.blogspot.com/2018/03/simple-quantum-chemistry-hartree-fock.html\n",
    "\n",
    "Using `Slater type orbitals` as basis has an expensive integration.One way around this is to use a `contracted Gaussian functions (CGF)`, in which we approximate the Slater type orbitals with the contracted Gaussian functions.\n",
    "\n",
    "\\begin{array}{c}{\\phi^{G F}(\\alpha)=(2 \\alpha / \\pi)^{3 / 4} \\exp \\left(-\\alpha r^{2}\\right)} \\\\ {\\phi^{C G F}(\\boldsymbol{r})=\\sum_{n} d_{n} \\phi_{n}^{G F}(\\alpha)}\\end{array}\n",
    "\n",
    "\n",
    "For simplicity, we use 3 CGF as basis: (note the subscript `STO-3G`)\n",
    "\n",
    "\\begin{align}\n",
    "\\phi_{S T O-3 G}^{C G F}(\\boldsymbol{r})&=\\sum_{n}^{3} d_{n} \\phi_{n}^{G F}(\\alpha) \\\\\n",
    "=& d_{1} \\phi_{1}^{G F}(\\alpha) + d_{2} \\phi_{2}^{G F}(\\alpha) + d_{3} \\phi_{3}^{G F}(\\alpha) \\\\\n",
    "=& d_{1}(2 \\alpha / \\pi)^{3 / 4} \\exp \\left(-\\alpha r^{2}\\right) + d_{2}(2 \\alpha / \\pi)^{3 / 4} \\exp \\left(-\\alpha r^{2}\\right) + d_{3}(2 \\alpha / \\pi)^{3 / 4} \\exp \\left(-\\alpha r^{2}\\right)\n",
    "\\end{align}\n",
    "\n",
    "> As the number of Gaussians is increased the function more closely describes the slater type orbitals. You will also see that nearest the centre (x=0) the approximation is poorest. This region is called the cusp."
   ]
  },
  {
   "cell_type": "code",
   "execution_count": 123,
   "metadata": {},
   "outputs": [
    {
     "data": {
      "text/plain": [
       "<matplotlib.legend.Legend at 0x1e6051ebc88>"
      ]
     },
     "execution_count": 123,
     "metadata": {},
     "output_type": "execute_result"
    },
    {
     "data": {
      "image/png": "[encoded data removed]",
      "text/plain": [
       "<Figure size 288x216 with 1 Axes>"
      ]
     },
     "metadata": {},
     "output_type": "display_data"
    },
    {
     "data": {
      "image/png": "[encoded data removed]",
      "text/plain": [
       "<Figure size 360x216 with 1 Axes>"
      ]
     },
     "metadata": {},
     "output_type": "display_data"
    },
    {
     "data": {
      "image/png": "[encoded data removed]",
      "text/plain": [
       "<Figure size 360x216 with 1 Axes>"
      ]
     },
     "metadata": {},
     "output_type": "display_data"
    },
    {
     "data": {
      "image/png": "[encoded data removed]",
      "text/plain": [
       "<Figure size 360x216 with 1 Axes>"
      ]
     },
     "metadata": {},
     "output_type": "display_data"
    }
   ],
   "source": [
    "# Need to import some libraries to have the maths functions and plotting\n",
    "import numpy as np\n",
    "import scipy.special as sp\n",
    "import matplotlib.pyplot as plt\n",
    "#%matplotlib notebook # Allows plotting in the notebook\n",
    "\n",
    "x = np.linspace(-5,5,num=1000)\n",
    "r = abs(x)\n",
    "\n",
    "zeta = 1.0\n",
    "\n",
    "psi_STO = (zeta**3/np.pi)**(0.5)*np.exp(-zeta*r)\n",
    "\n",
    "plt.figure(figsize=(4,3))\n",
    "plt.plot(x,psi_STO)\n",
    "\n",
    "# Coeff is the d_n variable in the equation above\n",
    "Coeff = np.array([[1.00000,0.0000000,0.000000],\n",
    "                  [0.678914,0.430129,0.000000],\n",
    "                  [0.444635,0.535328,0.154329]])\n",
    "\n",
    "# Expon is the alpha variable in the equation above\n",
    "Expon = np.array([[0.270950,0.000000,0.000000],\n",
    "                  [0.151623,0.851819,0.000000],\n",
    "                  [0.109818,0.405771,2.227660]]) \n",
    "\n",
    "psi_CGF_STO1G = Coeff[0,0]*(2*Expon[0,0]/np.pi)**(0.75)*np.exp(-Expon[0,0]*r**2)\n",
    "\n",
    "psi_CGF_STO2G = Coeff[1,0]*(2*Expon[1,0]/np.pi)**(0.75)*np.exp(-Expon[1,0]*r**2) \\\n",
    "                + Coeff[1,1]*(2*Expon[1,1]/np.pi)**(0.75)*np.exp(-Expon[1,1]*r**2) \\\n",
    "                + Coeff[1,2]*(2*Expon[1,2]/np.pi)**(0.75)*np.exp(-Expon[1,2]*r**2)\n",
    "\n",
    "psi_CGF_STO3G = Coeff[2,0]*(2*Expon[2,0]/np.pi)**(0.75)*np.exp(-Expon[2,0]*r**2) \\\n",
    "                + Coeff[2,1]*(2*Expon[2,1]/np.pi)**(0.75)*np.exp(-Expon[2,1]*r**2) \\\n",
    "                + Coeff[2,2]*(2*Expon[2,2]/np.pi)**(0.75)*np.exp(-Expon[2,2]*r**2)\n",
    "    \n",
    "# Plot the three functions\n",
    "plt.figure(figsize=(5,3))\n",
    "plt.title(\"Approximations to a STO with CGF\")\n",
    "plt.plot(x,psi_STO,label=\"STO\")\n",
    "plt.plot(x,psi_CGF_STO1G,label=\"STO-1G\")\n",
    "plt.legend()\n",
    "\n",
    "plt.figure(figsize=(5,3))\n",
    "plt.plot(x,psi_STO,label=\"STO\")\n",
    "plt.plot(x,psi_CGF_STO2G,label=\"STO-2G\")\n",
    "plt.legend()\n",
    "\n",
    "plt.figure(figsize=(5,3))\n",
    "plt.plot(x,psi_STO,label=\"STO\")\n",
    "plt.plot(x,psi_CGF_STO3G,label=\"STO-3G\")\n",
    "plt.legend()"
   ]
  },
  {
   "cell_type": "code",
   "execution_count": 126,
   "metadata": {},
   "outputs": [
    {
     "name": "stdout",
     "output_type": "stream",
     "text": [
      "0 0\n",
      "1 0\n",
      "1 1\n",
      "2 0\n",
      "2 1\n",
      "2 2\n"
     ]
    }
   ],
   "source": [
    "for p in range(3):\n",
    "    for q in range(p+1):\n",
    "        print(p,q)"
   ]
  },
  {
   "cell_type": "code",
   "execution_count": 125,
   "metadata": {},
   "outputs": [
    {
     "name": "stdout",
     "output_type": "stream",
     "text": [
      "0 0\n",
      "0 1\n",
      "0 2\n",
      "1 0\n",
      "1 1\n",
      "1 2\n",
      "2 0\n",
      "2 1\n",
      "2 2\n"
     ]
    }
   ],
   "source": [
    "for p in range(3):\n",
    "    for q in range(3):\n",
    "        print(p,q)"
   ]
  },
  {
   "cell_type": "code",
   "execution_count": null,
   "metadata": {},
   "outputs": [],
   "source": []
  }
 ],
 "metadata": {
  "kernelspec": {
   "display_name": "Python 3",
   "language": "python",
   "name": "python3"
  },
  "language_info": {
   "codemirror_mode": {
    "name": "ipython",
    "version": 3
   },
   "file_extension": ".py",
   "mimetype": "text/x-python",
   "name": "python",
   "nbconvert_exporter": "python",
   "pygments_lexer": "ipython3",
   "version": "3.6.5"
  }
 },
 "nbformat": 4,
 "nbformat_minor": 2
}
