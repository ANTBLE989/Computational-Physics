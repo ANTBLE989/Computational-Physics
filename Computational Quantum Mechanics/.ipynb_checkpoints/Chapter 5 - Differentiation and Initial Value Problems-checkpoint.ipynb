{
 "cells": [
  {
   "cell_type": "markdown",
   "id": "a1f2d4cc",
   "metadata": {},
   "source": [
    "**Example 5.3**\n",
    "\n",
    "Use the forward Euler method to solve the initial value problem $y'(x) = x y(x)$, $y(0)=2$ between $0\\leq x \\leq 1$. \n"
   ]
  },
  {
   "cell_type": "code",
   "execution_count": 5,
   "id": "a4b2b4de",
   "metadata": {},
   "outputs": [
    {
     "name": "stdout",
     "output_type": "stream",
     "text": [
      "101\n"
     ]
    },
    {
     "data": {
      "text/plain": [
       "[<matplotlib.lines.Line2D at 0x7fd3f7bfab50>]"
      ]
     },
     "execution_count": 5,
     "metadata": {},
     "output_type": "execute_result"
    },
    {
     "data": {
      "image/png": "[encoded data removed]",
      "text/plain": [
       "<Figure size 432x288 with 1 Axes>"
      ]
     },
     "metadata": {
      "needs_background": "light"
     },
     "output_type": "display_data"
    }
   ],
   "source": [
    "import numpy as np \n",
    "import matplotlib.pyplot as plt\n",
    "\n",
    "# set x-grid size and spacing \n",
    "\n",
    "def euler_method(dx):\n",
    "    x = np.arange(0,1+dx, dx)\n",
    "    N = len(x)\n",
    "    print(N)\n",
    "    # create the y-grid \n",
    "    y = np.zeros((N))\n",
    "\n",
    "    # set the initial condition \n",
    "    y[0] = 2 \n",
    "\n",
    "    for i in range(0,N-1):\n",
    "        # the Euler method \n",
    "        y[i+1] = y[i] + dx*(x[i]*y[i])\n",
    "    return y\n",
    "\n",
    "\n",
    "# dx = 0.1 \n",
    "y1 = euler_method(0.01)\n",
    "#y2 = euler_method(0.01)\n",
    "#y3 = euler_method(0.001)\n",
    "        \n",
    "# exact solution \n",
    "dx = 0.01\n",
    "x = np.arange(0,1+dx, dx)\n",
    "ye= 2*np.exp((x**2)/2)\n",
    "\n",
    "plt.plot(y1,'o-')\n",
    "plt.plot(ye,'--')"
   ]
  },
  {
   "cell_type": "markdown",
   "id": "f65dbfad",
   "metadata": {},
   "source": [
    "## Backward Euler Method"
   ]
  },
  {
   "cell_type": "code",
   "execution_count": 2,
   "id": "db149101",
   "metadata": {},
   "outputs": [
    {
     "data": {
      "text/html": [
       "<div>\n",
       "<style scoped>\n",
       "    .dataframe tbody tr th:only-of-type {\n",
       "        vertical-align: middle;\n",
       "    }\n",
       "\n",
       "    .dataframe tbody tr th {\n",
       "        vertical-align: top;\n",
       "    }\n",
       "\n",
       "    .dataframe thead th {\n",
       "        text-align: right;\n",
       "    }\n",
       "</style>\n",
       "<table border=\"1\" class=\"dataframe\">\n",
       "  <thead>\n",
       "    <tr style=\"text-align: right;\">\n",
       "      <th></th>\n",
       "      <th>0.00  0.0000</th>\n",
       "    </tr>\n",
       "  </thead>\n",
       "  <tbody>\n",
       "    <tr>\n",
       "      <th>0</th>\n",
       "      <td>0.01  0.0099</td>\n",
       "    </tr>\n",
       "    <tr>\n",
       "      <th>1</th>\n",
       "      <td>0.02  0.0197</td>\n",
       "    </tr>\n",
       "    <tr>\n",
       "      <th>2</th>\n",
       "      <td>0.03  0.0294</td>\n",
       "    </tr>\n",
       "    <tr>\n",
       "      <th>3</th>\n",
       "      <td>0.04  0.0390</td>\n",
       "    </tr>\n",
       "    <tr>\n",
       "      <th>4</th>\n",
       "      <td>0.05  0.0486</td>\n",
       "    </tr>\n",
       "    <tr>\n",
       "      <th>...</th>\n",
       "      <td>...</td>\n",
       "    </tr>\n",
       "    <tr>\n",
       "      <th>95</th>\n",
       "      <td>0.96  0.6712</td>\n",
       "    </tr>\n",
       "    <tr>\n",
       "      <th>96</th>\n",
       "      <td>0.97  0.6763</td>\n",
       "    </tr>\n",
       "    <tr>\n",
       "      <th>97</th>\n",
       "      <td>0.98  0.6814</td>\n",
       "    </tr>\n",
       "    <tr>\n",
       "      <th>98</th>\n",
       "      <td>0.99  0.6864</td>\n",
       "    </tr>\n",
       "    <tr>\n",
       "      <th>99</th>\n",
       "      <td>1.00  0.6914</td>\n",
       "    </tr>\n",
       "  </tbody>\n",
       "</table>\n",
       "<p>100 rows × 1 columns</p>\n",
       "</div>"
      ],
      "text/plain": [
       "        0.00  0.0000\n",
       "0       0.01  0.0099\n",
       "1       0.02  0.0197\n",
       "2       0.03  0.0294\n",
       "3       0.04  0.0390\n",
       "4       0.05  0.0486\n",
       "..               ...\n",
       "95      0.96  0.6712\n",
       "96      0.97  0.6763\n",
       "97      0.98  0.6814\n",
       "98      0.99  0.6864\n",
       "99      1.00  0.6914\n",
       "\n",
       "[100 rows x 1 columns]"
      ]
     },
     "execution_count": 2,
     "metadata": {},
     "output_type": "execute_result"
    }
   ],
   "source": [
    "import pandas as pd\n",
    "df = pd.read_csv('results.txt')\n"
   ]
  },
  {
   "cell_type": "code",
   "execution_count": null,
   "id": "38620c5f",
   "metadata": {},
   "outputs": [],
   "source": []
  }
 ],
 "metadata": {
  "kernelspec": {
   "display_name": "Python 3 (ipykernel)",
   "language": "python",
   "name": "python3"
  },
  "language_info": {
   "codemirror_mode": {
    "name": "ipython",
    "version": 3
   },
   "file_extension": ".py",
   "mimetype": "text/x-python",
   "name": "python",
   "nbconvert_exporter": "python",
   "pygments_lexer": "ipython3",
   "version": "3.7.12"
  },
  "toc": {
   "base_numbering": 1,
   "nav_menu": {},
   "number_sections": true,
   "sideBar": true,
   "skip_h1_title": false,
   "title_cell": "Table of Contents",
   "title_sidebar": "Contents",
   "toc_cell": false,
   "toc_position": {},
   "toc_section_display": true,
   "toc_window_display": false
  }
 },
 "nbformat": 4,
 "nbformat_minor": 5
}
