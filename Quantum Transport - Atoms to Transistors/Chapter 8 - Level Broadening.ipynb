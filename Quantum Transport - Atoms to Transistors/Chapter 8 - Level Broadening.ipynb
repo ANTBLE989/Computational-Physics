{
 "cells": [
  {
   "cell_type": "markdown",
   "metadata": {},
   "source": [
    "# 8.2 Local Density States"
   ]
  },
  {
   "cell_type": "markdown",
   "metadata": {},
   "source": [
    "Evaluate the electron density $n(z)$ in the bx assuming that it is in equilibrium with an electrochemical potential $\\mu=E_c + 0.25 eV$. The electron density is given by the diagonal elements of the density matrix $\\rho$, which we can evaluate in on of the two ways.\n",
    "\n",
    "1. We could assume periodic boundary conditions: $H(1,100)=H(100,1)=-t_0$ and then evaluate $\\rho$ from, \n",
    "\\begin{align}\n",
    "[\\rho] = f_0([H]-\\mu[I])\n",
    "\\end{align}\n",
    "\n",
    "2. We could add self-energy terms which we have non-zero values of $-t_0 exp[ika]$ only on the end points (1,1) or (100,100), evaluate the Green's function from, \n",
    "\\begin{align}\n",
    "G = [(E + i0^+)I - H - \\Sigma(E)]^{-1}\n",
    "\\end{align}\n",
    "obtain the spectral function from $A(E)=i[G(E)-G^+(E)]$, and then calculate the equilibrium density matrix from \n",
    "\\begin{align}\n",
    "[\\rho] = \\int \\frac{dE}{2\\pi} f_0(E-\\mu) [A(E)]\n",
    "\\end{align}\n",
    "\n",
    "\n",
    "### Model: \n",
    "- a one-band Hamiltonian with a lattice of 50 points spaced by $a=2$ angstrom\n",
    "- effective mass $m_c=0.25m_e$\n",
    "- $k_B T= 0.025 eV$  "
   ]
  },
  {
   "cell_type": "code",
   "execution_count": 47,
   "metadata": {},
   "outputs": [],
   "source": [
    "# generation of Figure 8.2.5\n",
    "import numpy as np\n",
    "import matplotlib.pyplot as plt\n",
    "# Constant (all MKS, except energy which is in eV)\n",
    "hbar=1.06e-34\n",
    "q=1.6e-19\n",
    "m=0.25*9.1e-31\n",
    "mu=0.25\n",
    "kT=0.025\n",
    "\n",
    "# inputs \n",
    "a=2e-10\n",
    "t0=(hbar**2)/(2*m*(a**2)*q)\n",
    "Np=50\n",
    "X = a*np.linspace(0,Np-1,Np)\n",
    "U = np.linspace(-0.05,0.05,Np)\n",
    "\n",
    "H = np.diagflat([[-t0]*(Np-1)],-1) + np.diagflat([[2*t0]*(Np)],0) + np.diagflat([[-t0]*(Np-1)],1)\n",
    "H = H + np.diag(U)\n",
    "HP = H"
   ]
  },
  {
   "cell_type": "code",
   "execution_count": 74,
   "metadata": {},
   "outputs": [
    {
     "data": {
      "text/plain": [
       "[<matplotlib.lines.Line2D at 0x194f0adf7f0>]"
      ]
     },
     "execution_count": 74,
     "metadata": {},
     "output_type": "execute_result"
    },
    {
     "data": {
      "image/png": "[encoded data removed]",
      "text/plain": [
       "<Figure size 432x288 with 1 Axes>"
      ]
     },
     "metadata": {},
     "output_type": "display_data"
    }
   ],
   "source": [
    "# periodic Hamiltonian \n",
    "from numpy.linalg import eigh,eig\n",
    "\n",
    "HP[0,Np-1] = -t0\n",
    "HP[Np-1,0] = -t0\n",
    "\n",
    "D, V = eigh(HP,UPLO='U')\n",
    "#print(np.diagflat(D,0))\n",
    "\n",
    "rho = 1./(1+np.exp((D-mu)/kT))\n",
    "Vprime = np.transpose(np.conjugate(V))\n",
    "rho = V.dot((np.diag(rho).dot(Vprime)))\n",
    "rho = np.diag(rho)/a\n",
    "plt.plot(rho)"
   ]
  },
  {
   "cell_type": "code",
   "execution_count": null,
   "metadata": {},
   "outputs": [],
   "source": [
    "# Green's function method \n",
    "from numpy.linalg import inv\n",
    "import cmath\n",
    "# Energy Grid for Green's function method \n",
    "Emin = -0.1 \n",
    "Emax = 0.4 \n",
    "NE = 250 \n",
    "E = np.linspace(Emin,Emax,NE)\n",
    "dE = E[2]-E[1]\n",
    "zplus = complex(0,1e-12)\n",
    "f = 1/(1+np.exp((E-mu)/kT))\n",
    "\n",
    "# Green's function method \n",
    "sig1 = np.zeros((Np,Np),dtype=np.complex_)\n",
    "sig2 = np.zeros((Np,Np),dtype=np.complex_)\n",
    "n = np.zeros((Np,1))\n",
    "\n",
    "for k in range(0,NE):\n",
    "    ck = (1-((E[k]+zplus-U[0]))/(2*t0))\n",
    "    ka = cmath.acos(ck)\n",
    "    sigma=-t0*complex(np.cos(ka),np.sin(ka))\n",
    "    sig1[0,0] = sigma\n",
    "    \n",
    "    ck = (1-((E[k]+zplus-U[Np-1]))/(2*t0))\n",
    "    ka = cmath.acos(ck)\n",
    "    sigma=-t0*complex(np.cos(ka),np.sin(ka))\n",
    "    sig2[Np-1,Np-1] = sigma\n",
    "    \n",
    "    G = inv((E[k]+zplus)*np.eye(Np)-H-sig1-sig2)\n",
    "    test = ((f[k]*(dE*np.diag(-(G-np.transpose(np.conjugate(G))).imag)/(2*np.pi*a))))[:,None]\n",
    "    n = n + test"
   ]
  },
  {
   "cell_type": "code",
   "execution_count": null,
   "metadata": {},
   "outputs": [],
   "source": [
    "plt.plot(X,n)\n",
    "plt.plot(X,rho)"
   ]
  },
  {
   "cell_type": "markdown",
   "metadata": {},
   "source": [
    "# 8.4 What constitute a contact (reservoir)?"
   ]
  },
  {
   "cell_type": "code",
   "execution_count": 191,
   "metadata": {},
   "outputs": [],
   "source": [
    "# Energy Grid for Green's function method \n",
    "from numpy.linalg import inv\n",
    "\n",
    "Emin = -1\n",
    "Emax = 1 \n",
    "NE = 201 \n",
    "E = np.linspace(Emin,Emax,NE)\n",
    "dE = E[2]-E[1]\n",
    "\n",
    "H = np.array([[-0.25,0.5],[0.5,0.25]])\n",
    "eta = np.array([[complex(0,0.025),0],[0,complex(0,0.025)]])\n",
    "D = np.zeros(NE)\n",
    "for kE in range(0,NE):\n",
    "    G = inv(np.eye(2)*E[kE] - H + eta)\n",
    "    A = np.diag(-(G - np.transpose(np.conjugate(G))).imag)\n",
    "    D[kE] = A[0]"
   ]
  },
  {
   "cell_type": "code",
   "execution_count": 192,
   "metadata": {},
   "outputs": [
    {
     "data": {
      "text/plain": [
       "[<matplotlib.lines.Line2D at 0x194f3c97ac8>]"
      ]
     },
     "execution_count": 192,
     "metadata": {},
     "output_type": "execute_result"
    },
    {
     "data": {
      "image/png": "[encoded data removed]",
      "text/plain": [
       "<Figure size 432x288 with 1 Axes>"
      ]
     },
     "metadata": {},
     "output_type": "display_data"
    }
   ],
   "source": [
    "# FIGURE 8.4.1 (left)\n",
    "plt.plot(D,E)"
   ]
  },
  {
   "cell_type": "markdown",
   "metadata": {},
   "source": [
    "If we are interested primarily in site 1 we could represent the effect of site 2 through self-energy.\n",
    "\\begin{align*}\n",
    "\\Sigma(E) = \\frac{|\\tau|^2}{(E - \\epsilon_1 + i0^+)}\n",
    "\\end{align*}\n",
    "and calculate the LDOS from a (1x1) spectral function: \n",
    "\\begin{align*}\n",
    "[a] = i[g-g^\\dagger]\n",
    "\\end{align*}\n",
    "where $[g] = [E - \\epsilon - \\Sigma]^{-1}$"
   ]
  },
  {
   "cell_type": "code",
   "execution_count": 216,
   "metadata": {},
   "outputs": [
    {
     "data": {
      "text/plain": [
       "[<matplotlib.lines.Line2D at 0x194f527ecc0>]"
      ]
     },
     "execution_count": 216,
     "metadata": {},
     "output_type": "execute_result"
    },
    {
     "data": {
      "image/png": "[encoded data removed]",
      "text/plain": [
       "<Figure size 432x288 with 1 Axes>"
      ]
     },
     "metadata": {},
     "output_type": "display_data"
    }
   ],
   "source": [
    "sigma = np.zeros(NE,dtype=np.complex_)\n",
    "g = np.zeros(NE,dtype=np.complex_)\n",
    "a = np.zeros(NE,dtype=np.complex_)\n",
    "for kE in range(0,NE):\n",
    "    sigma[kE] = (0.5**2)/(E[kE]-0.25+complex(0,0.025))\n",
    "    g[kE]=1/(E[kE] -(-0.25) - sigma[kE])\n",
    "    a[kE] = -(g[kE] - np.transpose(np.conjugate(g[kE]))).imag\n",
    "plt.plot(a.real,E)"
   ]
  },
  {
   "cell_type": "markdown",
   "metadata": {},
   "source": [
    "What's wrong with the simulation? Why can't they match?"
   ]
  },
  {
   "cell_type": "markdown",
   "metadata": {},
   "source": [
    "# Exercises"
   ]
  },
  {
   "cell_type": "markdown",
   "metadata": {},
   "source": [
    "## E.8.2"
   ]
  },
  {
   "cell_type": "code",
   "execution_count": 153,
   "metadata": {},
   "outputs": [],
   "source": [
    "N = 100\n",
    "X = np.linspace(-1,3,N)\n",
    "sigma = np.zeros(N,dtype=np.complex_)\n",
    "for i,x in enumerate(X): \n",
    "    if x <= 0: \n",
    "        sigma[i] = (x-1) + np.sqrt(x**2-2*x)\n",
    "    elif x >= 2: \n",
    "        sigma[i] = (x-1) - np.sqrt(x**2-2*x)\n",
    "    else: \n",
    "        sigma[i] = (x-1) - complex(0,np.sqrt(2*x-x**2))"
   ]
  },
  {
   "cell_type": "code",
   "execution_count": 156,
   "metadata": {},
   "outputs": [
    {
     "data": {
      "text/plain": [
       "<matplotlib.legend.Legend at 0x194f241d898>"
      ]
     },
     "execution_count": 156,
     "metadata": {},
     "output_type": "execute_result"
    },
    {
     "data": {
      "image/png": "[encoded data removed]",
      "text/plain": [
       "<Figure size 432x288 with 1 Axes>"
      ]
     },
     "metadata": {},
     "output_type": "display_data"
    }
   ],
   "source": [
    "plt.plot(sigma.real,X,label='real part')\n",
    "plt.plot(sigma.imag,X,label='imaginary part')\n",
    "plt.legend()"
   ]
  },
  {
   "cell_type": "code",
   "execution_count": null,
   "metadata": {},
   "outputs": [],
   "source": []
  }
 ],
 "metadata": {
  "kernelspec": {
   "display_name": "Python 3",
   "language": "python",
   "name": "python3"
  },
  "language_info": {
   "codemirror_mode": {
    "name": "ipython",
    "version": 3
   },
   "file_extension": ".py",
   "mimetype": "text/x-python",
   "name": "python",
   "nbconvert_exporter": "python",
   "pygments_lexer": "ipython3",
   "version": "3.6.5"
  }
 },
 "nbformat": 4,
 "nbformat_minor": 2
}
