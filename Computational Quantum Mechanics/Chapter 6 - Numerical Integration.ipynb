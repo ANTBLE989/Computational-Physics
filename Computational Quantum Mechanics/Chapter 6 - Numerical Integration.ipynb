{
 "cells": [
  {
   "cell_type": "markdown",
   "id": "7974ba96",
   "metadata": {},
   "source": [
    "**Example 6.2 Trapezoidal local error (python)**          \n",
    "Let's write a python program to compare the trapezoidal approximation to the exact result, for various value of $\\delta$"
   ]
  },
  {
   "cell_type": "code",
   "execution_count": 15,
   "id": "654f9031",
   "metadata": {},
   "outputs": [],
   "source": [
    "#!/usr/bin/env python3 \n",
    "import numpy as np \n",
    "\n",
    "# function to return exact result at x=4 for some dx \n",
    "def exact(dx):\n",
    "    return 0.5*(dx + np.sin(4) - np.sin(4+dx))\n",
    "\n",
    "# trapezoidal approximation at x=4 for some dx \n",
    "def trapezoid(dx):\n",
    "    return 0.5*dx*(np.sin(2)**2 + np.sin(2+0.5*dx)**2)\n",
    "\n",
    "# calculate the local error for various dx \n",
    "local_error = []\n",
    "for dx in [0.001, 0.01, 0.1,0.2,0.5,1]:\n",
    "    local_error.append(np.abs(trapezoid(dx)-exact(dx)))"
   ]
  },
  {
   "cell_type": "code",
   "execution_count": 19,
   "id": "ca072430",
   "metadata": {},
   "outputs": [
    {
     "data": {
      "text/plain": [
       "[<matplotlib.lines.Line2D at 0x7fd54806ae80>]"
      ]
     },
     "execution_count": 19,
     "metadata": {},
     "output_type": "execute_result"
    },
    {
     "data": {
      "image/png": "[encoded data removed]",
      "text/plain": [
       "<Figure size 432x288 with 1 Axes>"
      ]
     },
     "metadata": {
      "needs_background": "light"
     },
     "output_type": "display_data"
    }
   ],
   "source": [
    "import matplotlib.pyplot as plt \n",
    "plt.plot(np.log10([0.001, 0.01, 0.1,0.2,0.5,1]),\n",
    "         np.log10(local_error),'-o')"
   ]
  },
  {
   "cell_type": "code",
   "execution_count": 14,
   "id": "4f4bf2e1",
   "metadata": {},
   "outputs": [
    {
     "data": {
      "text/plain": [
       "[[0.001, 2.7219523726987327e-11],\n",
       " [0.01, 2.707707615935695e-08],\n",
       " [0.1, 2.5618693318976704e-05],\n",
       " [0.2, 0.00019141644261430613],\n",
       " [0.5, 0.0023088836417853864],\n",
       " [1, 0.00856553082750866]]"
      ]
     },
     "execution_count": 14,
     "metadata": {},
     "output_type": "execute_result"
    }
   ],
   "source": []
  },
  {
   "cell_type": "markdown",
   "id": "cf6e6a00",
   "metadata": {},
   "source": [
    "## Simpson's rule"
   ]
  },
  {
   "cell_type": "markdown",
   "id": "677b9d8d",
   "metadata": {},
   "source": [
    "**Example 6.4** \n",
    "\n",
    "Simpson's rule for normalisation"
   ]
  },
  {
   "cell_type": "code",
   "execution_count": 29,
   "id": "76e46722",
   "metadata": {},
   "outputs": [
    {
     "name": "stdout",
     "output_type": "stream",
     "text": [
      "[2.79918439e-06 2.94255451e-06 3.09295853e-06 ... 3.09295853e-06\n",
      " 2.94255451e-06 2.79918439e-06]\n"
     ]
    }
   ],
   "source": [
    "# solution 1\n",
    "import numpy as np \n",
    "\n",
    "# define the probability function \n",
    "prob = lambda x: np.abs(np.exp(-x**2/2)**2)\n",
    "\n",
    "# grid spacing and grid points \n",
    "dx = 0.01 \n",
    "a = -5; b = 5 \n",
    "N = int((b-a)/dx  + 1)\n",
    "\n",
    "# Simpson's rule using function calls \n",
    "A = prob(a) + prob(b)\n",
    "\n",
    "for n in range(1,N):\n",
    "    # even terms \n",
    "    if n%2 == 0:\n",
    "        A += 4*prob(a + n*dx)\n",
    "    else:\n",
    "        A += 2*prob(a + n*dx)\n",
    "A *= dx/3 \n",
    "\n",
    "# normalize the wavefunction\n",
    "psiNorm = lambda x: np.exp(-x**2/2)/np.sqrt(A)\n",
    "print(psiNorm(x))"
   ]
  },
  {
   "cell_type": "code",
   "execution_count": 25,
   "id": "0b1ec46f",
   "metadata": {},
   "outputs": [
    {
     "data": {
      "text/plain": [
       "array([2.79918439e-06, 2.94255451e-06, 3.09295853e-06, ...,\n",
       "       3.09295853e-06, 2.94255451e-06, 2.79918439e-06])"
      ]
     },
     "execution_count": 25,
     "metadata": {},
     "output_type": "execute_result"
    }
   ],
   "source": [
    "# solution 2 \n",
    "'''\n",
    "we can represent the wavefunction to be normalissed as an array,\n",
    "and use array slicing to perform the summation\n",
    "'''\n",
    "import numpy as np \n",
    "# create the wavefunction grid \n",
    "\n",
    "dx = 0.01 \n",
    "x = np.arange(-5,5+dx, dx)\n",
    "psi = np.exp(-x**2/2)\n",
    "prob = np.abs(psi)**2 \n",
    "\n",
    "# Simpson's rule using numpy slicing \n",
    "A = (dx/3)*(prob[0] + 4*np.sum(prob[1:-1:2])\n",
    "            + 2*np.sum(prob[2:-1:2]) + prob[-1])\n",
    "\n",
    "# normalise the wavefunction \n",
    "psiNorm = psi/np.sqrt(A)\n",
    "psiNorm"
   ]
  },
  {
   "cell_type": "code",
   "execution_count": null,
   "id": "f47f0dd0",
   "metadata": {},
   "outputs": [],
   "source": []
  }
 ],
 "metadata": {
  "kernelspec": {
   "display_name": "Python 3 (ipykernel)",
   "language": "python",
   "name": "python3"
  },
  "language_info": {
   "codemirror_mode": {
    "name": "ipython",
    "version": 3
   },
   "file_extension": ".py",
   "mimetype": "text/x-python",
   "name": "python",
   "nbconvert_exporter": "python",
   "pygments_lexer": "ipython3",
   "version": "3.9.7"
  }
 },
 "nbformat": 4,
 "nbformat_minor": 5
}
