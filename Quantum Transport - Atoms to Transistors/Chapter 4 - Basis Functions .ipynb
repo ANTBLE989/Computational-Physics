{
 "cells": [
  {
   "cell_type": "code",
   "execution_count": 2,
   "metadata": {},
   "outputs": [],
   "source": [
    "import scipy.sparse as spsp\n",
    "from scipy.sparse.linalg import eigs\n",
    "import matplotlib.pyplot as plt\n",
    "import numpy as np\n",
    "from numpy.linalg import eigh,eig"
   ]
  },
  {
   "cell_type": "markdown",
   "metadata": {},
   "source": [
    "# Basis Functions \n",
    "\n",
    "The concept of basis functions provides: \n",
    "- a convenient commputational tool for solving Schrodinger equation \n",
    "- a very important conceptual tool that is fundamental to the quantum mechanical viewpoint"
   ]
  },
  {
   "cell_type": "code",
   "execution_count": 7,
   "metadata": {},
   "outputs": [
    {
     "data": {
      "text/plain": [
       "[-19.46164394313213,\n",
       " 4.229824080404451e-67,\n",
       " -1.4742508650750072e-34,\n",
       " -19.46164394313213]"
      ]
     },
     "execution_count": 7,
     "metadata": {},
     "output_type": "execute_result"
    }
   ],
   "source": [
    "# constant \n",
    "hbar = 1.055e-34\n",
    "m = 9.11e-31 \n",
    "epsil = 8.852e-12 \n",
    "q = 1.602e-19 \n",
    "\n",
    "a0 = (4*np.pi*epsil*hbar)/(m*q*q)\n",
    "E0 = q/(8*np.pi*epsil*a0)\n",
    "\n",
    "# Basis\n",
    "L = 0.074e-9/a0 \n",
    "s = np.expm1(-L)*(1+L+((L**2)/3))\n",
    "r = np.linspace(-2e-10,+2e-10,101)\n",
    "r0 = r/a0\n",
    "psi = np.sqrt(1/(np.pi*(a0**3)))*(np.expm1(-abs(r0-(L/2)))+np.expm1(-abs(r0+(L/2))))\n",
    "n = (2*psi*np.conj(psi))/(2*(1+s))\n",
    "\n",
    "a = -2*E0*(1-((1+L)*np.expm1(-2*L)))/L \n",
    "b = -2*E0*(1+L)*np.expm1(-L)\n",
    "EB0 = E0+((a+b)/(1+s))\n",
    "[a,b,s,EB0]"
   ]
  },
  {
   "cell_type": "code",
   "execution_count": 8,
   "metadata": {},
   "outputs": [
    {
     "data": {
      "text/plain": [
       "[<matplotlib.lines.Line2D at 0x1edc86c7320>]"
      ]
     },
     "execution_count": 8,
     "metadata": {},
     "output_type": "execute_result"
    },
    {
     "data": {
      "image/png": "[encoded data removed]",
      "text/plain": [
       "<Figure size 432x288 with 1 Axes>"
      ]
     },
     "metadata": {},
     "output_type": "display_data"
    }
   ],
   "source": [
    "plt.plot(r,n)"
   ]
  },
  {
   "cell_type": "code",
   "execution_count": null,
   "metadata": {},
   "outputs": [],
   "source": []
  },
  {
   "cell_type": "code",
   "execution_count": null,
   "metadata": {},
   "outputs": [],
   "source": []
  }
 ],
 "metadata": {
  "kernelspec": {
   "display_name": "Python 3",
   "language": "python",
   "name": "python3"
  },
  "language_info": {
   "codemirror_mode": {
    "name": "ipython",
    "version": 3
   },
   "file_extension": ".py",
   "mimetype": "text/x-python",
   "name": "python",
   "nbconvert_exporter": "python",
   "pygments_lexer": "ipython3",
   "version": "3.6.5"
  }
 },
 "nbformat": 4,
 "nbformat_minor": 2
}
