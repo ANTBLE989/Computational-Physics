{
 "cells": [
  {
   "cell_type": "markdown",
   "id": "8b417ad6",
   "metadata": {},
   "source": [
    "Example 4.1 (Python)\n",
    "\n",
    "Find the root $\\sqrt(x+1) \\cos^3(x/2)$ in the region $0\\leq x \\leq 2\\pi$ using the secand method. "
   ]
  },
  {
   "cell_type": "markdown",
   "id": "7abf859d",
   "metadata": {},
   "source": [
    "# Secant method \n",
    "\n",
    "apply backwards finite-difference formula\n",
    "$$\n",
    "f'(x_n) = \\frac{f(x_n)-f(x_{n-1})}{x_n - x_{n-1}}\n",
    "$$\n",
    "\n",
    "to the Newton-Raphson iterative equation:\n",
    "$$\n",
    "x_{n+1} =  x_n - f(x_n)\\frac{x_n-x_{n-1}}{f(x_n)-f(x_{n-1}}\n",
    "$$"
   ]
  },
  {
   "cell_type": "code",
   "execution_count": null,
   "id": "7078bb81",
   "metadata": {},
   "outputs": [],
   "source": [
    "import numpy as np \n",
    "\n",
    "x0 = 1 \n",
    "x1 = 2 \n",
    "tol = 1e-15 \n",
    "\n",
    "\n",
    "rootFound = False\n",
    "    \n",
    "def f(x):\n",
    "    return np.sqrt(x+1)*np.cos(x/2)**3 \n",
    "\n",
    "# loop 500 times OR convergence reached \n",
    "for i in range(500):\n",
    "    # store the function values \n",
    "    fx0 = f(x0)\n",
    "    fx1 = f(x1) \n",
    "    \n",
    "    # iterate the secant method \n",
    "    x2 = x1 - fx1*(x1-x0)/(fx1-fx0)\n",
    "    \n",
    "    interval = abs(x2-x1)/abs(x1)\n",
    "    \n",
    "    # check convergence \n",
    "    if interval <= tol:\n",
    "        N = i + 1 \n",
    "        rootFound = True \n",
    "        break \n",
    "        \n",
    "    # iterate variables ready for next loop\n",
    "    x0 = x1 \n",
    "    x1 = x2 \n",
    "        \n",
    "if rootFound:\n",
    "    print('After {} iterations, the root is {}'.format(N,x2))\n",
    "else:\n",
    "    print('Secand method did not converge')\n",
    "    "
   ]
  },
  {
   "cell_type": "markdown",
   "id": "f720f279",
   "metadata": {},
   "source": [
    "### scipy.optimize.newton method"
   ]
  },
  {
   "cell_type": "code",
   "execution_count": 7,
   "id": "403e8a03",
   "metadata": {},
   "outputs": [
    {
     "data": {
      "text/plain": [
       "3.5208545993194003"
      ]
     },
     "execution_count": 7,
     "metadata": {},
     "output_type": "execute_result"
    }
   ],
   "source": [
    "import numpy as np \n",
    "from scipy.optimize import newton \n",
    "f = lambda x: x**3 - 7*x - 19 \n",
    "df = lambda x: 3*x**2 - 7 \n",
    "x0 = 5 #initial guess\n",
    "newton(f, x0, df)"
   ]
  },
  {
   "cell_type": "code",
   "execution_count": 8,
   "id": "cbe000c6",
   "metadata": {},
   "outputs": [
    {
     "data": {
      "text/plain": [
       "0.0"
      ]
     },
     "execution_count": 8,
     "metadata": {},
     "output_type": "execute_result"
    }
   ],
   "source": [
    "f(3.5208545993194003)"
   ]
  },
  {
   "cell_type": "markdown",
   "id": "b7ce5cdc",
   "metadata": {},
   "source": [
    "# Problems "
   ]
  },
  {
   "cell_type": "markdown",
   "id": "b1aa0cbb",
   "metadata": {},
   "source": [
    "**P4.2**\n",
    "\n",
    "Use the bisection method to find a root of \n",
    "$$\n",
    "g(x) = f(f(f(f(x))))\n",
    "$$\n",
    "where\n",
    "$$\n",
    "f(x) = x^3 - 2.2x\n",
    "$$"
   ]
  },
  {
   "cell_type": "code",
   "execution_count": 31,
   "id": "08d96fc5",
   "metadata": {},
   "outputs": [],
   "source": [
    "import matplotlib.pyplot as plt \n",
    "f1 = lambda x: x**3 - 2.2*x \n",
    "g = lambda x: f1(f1(f1(f1(x))))\n",
    "xs = np.linspace(-1.1,1,1000)\n",
    "#xs"
   ]
  },
  {
   "cell_type": "code",
   "execution_count": 32,
   "id": "4bec1c60",
   "metadata": {},
   "outputs": [
    {
     "data": {
      "text/plain": [
       "[<matplotlib.lines.Line2D at 0x7fade2350050>]"
      ]
     },
     "execution_count": 32,
     "metadata": {},
     "output_type": "execute_result"
    },
    {
     "data": {
      "image/png": "[encoded data removed]",
      "text/plain": [
       "<Figure size 432x288 with 1 Axes>"
      ]
     },
     "metadata": {
      "needs_background": "light"
     },
     "output_type": "display_data"
    }
   ],
   "source": [
    "plt.plot(xs,g(xs))"
   ]
  },
  {
   "cell_type": "code",
   "execution_count": 42,
   "id": "a266f425",
   "metadata": {},
   "outputs": [
    {
     "name": "stdout",
     "output_type": "stream",
     "text": [
      "Root of g is -2.7755575615628914e-17\n"
     ]
    }
   ],
   "source": [
    "b = -1 \n",
    "a = 0 \n",
    "tol = 1e-15\n",
    "c = 0.5*(b + a)\n",
    "\n",
    "while tol < abs(g(c)):\n",
    "    if g(a)*g(c) > 0:\n",
    "        a = c \n",
    "    else:\n",
    "        b = c \n",
    "    c = 0.5*(b + a)\n",
    "        \n",
    "print(f'Root of g is {c}')\n",
    "\n",
    "\n",
    "\n",
    "\n",
    "\n"
   ]
  },
  {
   "cell_type": "code",
   "execution_count": 41,
   "id": "98f2c898",
   "metadata": {},
   "outputs": [
    {
     "data": {
      "text/plain": [
       "-6.50191012141477e-16"
      ]
     },
     "execution_count": 41,
     "metadata": {},
     "output_type": "execute_result"
    }
   ],
   "source": [
    "g(c)"
   ]
  },
  {
   "cell_type": "code",
   "execution_count": null,
   "id": "a33f308c",
   "metadata": {},
   "outputs": [],
   "source": []
  }
 ],
 "metadata": {
  "kernelspec": {
   "display_name": "Python 3 (ipykernel)",
   "language": "python",
   "name": "python3"
  },
  "language_info": {
   "codemirror_mode": {
    "name": "ipython",
    "version": 3
   },
   "file_extension": ".py",
   "mimetype": "text/x-python",
   "name": "python",
   "nbconvert_exporter": "python",
   "pygments_lexer": "ipython3",
   "version": "3.7.12"
  },
  "toc": {
   "base_numbering": 1,
   "nav_menu": {},
   "number_sections": true,
   "sideBar": true,
   "skip_h1_title": false,
   "title_cell": "Table of Contents",
   "title_sidebar": "Contents",
   "toc_cell": false,
   "toc_position": {},
   "toc_section_display": true,
   "toc_window_display": false
  }
 },
 "nbformat": 4,
 "nbformat_minor": 5
}
