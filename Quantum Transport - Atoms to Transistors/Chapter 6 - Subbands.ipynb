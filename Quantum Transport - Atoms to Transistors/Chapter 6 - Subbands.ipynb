{
 "cells": [
  {
   "cell_type": "markdown",
   "metadata": {},
   "source": [
    "# 6.1 Quantum wells, wires, dots, and nanotubes"
   ]
  },
  {
   "cell_type": "code",
   "execution_count": 3,
   "metadata": {},
   "outputs": [],
   "source": [
    "import numpy as np"
   ]
  },
  {
   "cell_type": "code",
   "execution_count": 11,
   "metadata": {},
   "outputs": [],
   "source": [
    "z = np.zeros(5)\n",
    "Z = np.zeros(10) \n",
    "\n",
    "# Constants (all KMS, except energy which is in eV)\n",
    "hbar= 1.055e-34 \n",
    "q= 1.602e-19 \n",
    "a= 2.45e-10*4/(np.sqrt(3))\n",
    "m=9.110e-31\n",
    "\n",
    "d1 = np.array([1,1,1])/4\n",
    "d2 = np.array([1,-1,-1])/4\n",
    "d3 = np.array([-1,1,-1])/4\n",
    "d4 = np.array([-1,-1,1])/4\n",
    "\n",
    "#sp3s* model parameters; \n",
    "soa = 0.3787/3\n",
    "soc = 0.0129/3\n",
    "Esa =8.3431 \n",
    "Epa =1.0414\n",
    "Esc =-2.6569\n",
    "Epc =3.6686 \n",
    "Esea =8.5914\n",
    "Esec =6.7386\n",
    "Vss =6.4513 \n",
    "Vpasc=-5.7839\n",
    "Vpasec=-4.8077\n",
    "Vsapc=4.4800\n",
    "Vseapc=4.8422 \n",
    "Vxx=1.9546\n",
    "Vxy=5.0779\n",
    "\n",
    "#Conduction band effective mass model parameters\n",
    "Ec = 1.55 \n",
    "meff = 0.12*m\n",
    "\n",
    "Nt=101\n",
    "kk=1*np.linspace(0,1,Nt)\n",
    "l=0.5;m=0.5;n=0.5 #L-direction \n",
    "#l=1;m=0;n=0 #X-direction\n",
    "\n",
    "for Nk in range(0,Nt):\n",
    "    k=2*np.pi*kk[Nk]*np.array([l,m,n])\n",
    "    # sp3s* model \n",
    "    p1 = np.exp(complex(0,1)*sum(k*d1))"
   ]
  },
  {
   "cell_type": "code",
   "execution_count": 12,
   "metadata": {},
   "outputs": [
    {
     "data": {
      "text/plain": [
       "(-0.7071067811865475+0.7071067811865476j)"
      ]
     },
     "execution_count": 12,
     "metadata": {},
     "output_type": "execute_result"
    }
   ],
   "source": [
    "p1"
   ]
  },
  {
   "cell_type": "code",
   "execution_count": null,
   "metadata": {},
   "outputs": [],
   "source": []
  }
 ],
 "metadata": {
  "kernelspec": {
   "display_name": "Python 3",
   "language": "python",
   "name": "python3"
  },
  "language_info": {
   "codemirror_mode": {
    "name": "ipython",
    "version": 3
   },
   "file_extension": ".py",
   "mimetype": "text/x-python",
   "name": "python",
   "nbconvert_exporter": "python",
   "pygments_lexer": "ipython3",
   "version": "3.6.5"
  }
 },
 "nbformat": 4,
 "nbformat_minor": 2
}
