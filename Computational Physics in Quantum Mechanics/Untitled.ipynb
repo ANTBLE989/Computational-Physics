{
 "cells": [
  {
   "cell_type": "code",
   "execution_count": 11,
   "metadata": {},
   "outputs": [
    {
     "ename": "NameError",
     "evalue": "name 'xrange' is not defined",
     "output_type": "error",
     "traceback": [
      "\u001b[1;31m---------------------------------------------------------------------------\u001b[0m",
      "\u001b[1;31mNameError\u001b[0m                                 Traceback (most recent call last)",
      "\u001b[1;32m<ipython-input-11-f6dbc1bca67e>\u001b[0m in \u001b[0;36m<module>\u001b[1;34m()\u001b[0m\n\u001b[0;32m     37\u001b[0m \u001b[0mtdata\u001b[0m \u001b[1;33m=\u001b[0m \u001b[1;33m[\u001b[0m\u001b[0mt\u001b[0m\u001b[1;33m]\u001b[0m\u001b[1;33m\u001b[0m\u001b[0m\n\u001b[0;32m     38\u001b[0m \u001b[1;33m\u001b[0m\u001b[0m\n\u001b[1;32m---> 39\u001b[1;33m \u001b[1;32mfor\u001b[0m \u001b[0mi\u001b[0m \u001b[1;32min\u001b[0m \u001b[0mxrange\u001b[0m\u001b[1;33m(\u001b[0m\u001b[0mnplots\u001b[0m\u001b[1;33m)\u001b[0m\u001b[1;33m:\u001b[0m\u001b[1;33m\u001b[0m\u001b[0m\n\u001b[0m\u001b[0;32m     40\u001b[0m     \u001b[0mv_hat\u001b[0m \u001b[1;33m=\u001b[0m \u001b[0mnumpy\u001b[0m\u001b[1;33m.\u001b[0m\u001b[0mfft\u001b[0m\u001b[1;33m.\u001b[0m\u001b[0mfft\u001b[0m\u001b[1;33m(\u001b[0m\u001b[0mv\u001b[0m\u001b[1;33m)\u001b[0m\u001b[1;33m\u001b[0m\u001b[0m\n\u001b[0;32m     41\u001b[0m \u001b[1;33m\u001b[0m\u001b[0m\n",
      "\u001b[1;31mNameError\u001b[0m: name 'xrange' is not defined"
     ]
    }
   ],
   "source": [
    "\"\"\"\n",
    "Solving Heat Equation using pseudo-spectral and Forward Euler\n",
    "u_t= \\alpha*u_xx\n",
    "BC= u(0)=0, u(2*pi)=0\n",
    "IC=sin(x)\n",
    "\"\"\"\n",
    "\n",
    "import math\n",
    "import numpy\n",
    "import matplotlib.pyplot as plt\n",
    "from mpl_toolkits.mplot3d import Axes3D\n",
    "from matplotlib import cm\n",
    "from matplotlib.ticker import LinearLocator\n",
    "\n",
    "# Grid\n",
    "N = 64 # Number of steps\n",
    "h = 2*math.pi/N # step size\n",
    "x = h*numpy.arange(0,N) # discretize x-direction\n",
    "\n",
    "alpha = 0.5 # Thermal Diffusivity constant\n",
    "t = 0\n",
    "dt = .001\n",
    "\n",
    "# Initial conditions\n",
    "v = numpy.sin(x)\n",
    "I = complex(0,1)\n",
    "k = numpy.array([I*y for y in (range(0,int(N/2)))])\n",
    "k2=k**2;\n",
    "\n",
    "# Setting up Plot\n",
    "tmax = 5; tplot = .1;\n",
    "plotgap = int(round(tplot/dt))\n",
    "nplots = int(round(tmax/tplot))\n",
    "\n",
    "data = numpy.zeros((nplots+1,N))\n",
    "data[0,:] = v\n",
    "tdata = [t]\n",
    "\n",
    "for i in xrange(nplots):\n",
    "    v_hat = numpy.fft.fft(v)\n",
    "\n",
    "    for n in xrange(plotgap):\n",
    "        v_hat = v_hat+dt*alpha*k2*v_hat # FE timestepping\n",
    "\n",
    "    v = numpy.real(numpy.fft.ifft(v_hat)) # back to real space\n",
    "    data[i+1,:] = v\n",
    "\n",
    "    # real time vector\n",
    "    t = t+plotgap*dt\n",
    "    tdata.append(t)\n",
    "\n",
    "# Plot using mesh\n",
    "xx,tt = (numpy.mat(A) for A in (numpy.meshgrid(x,tdata)))\n",
    "\n",
    "fig = plt.figure()\n",
    "ax = fig.gca(projection='3d')\n",
    "surf = ax.plot_surface(xx, tt, data,rstride=1, cstride=1, cmap=cm.jet,\n",
    "        linewidth=0, antialiased=False)\n",
    "fig.colorbar(surf, shrink=0.5, aspect=5)\n",
    "plt.xlabel('x')\n",
    "plt.ylabel('t')\n",
    "plt.show()"
   ]
  },
  {
   "cell_type": "code",
   "execution_count": null,
   "metadata": {},
   "outputs": [],
   "source": []
  }
 ],
 "metadata": {
  "kernelspec": {
   "display_name": "Python 3",
   "language": "python",
   "name": "python3"
  },
  "language_info": {
   "codemirror_mode": {
    "name": "ipython",
    "version": 3
   },
   "file_extension": ".py",
   "mimetype": "text/x-python",
   "name": "python",
   "nbconvert_exporter": "python",
   "pygments_lexer": "ipython3",
   "version": "3.6.5"
  }
 },
 "nbformat": 4,
 "nbformat_minor": 2
}
