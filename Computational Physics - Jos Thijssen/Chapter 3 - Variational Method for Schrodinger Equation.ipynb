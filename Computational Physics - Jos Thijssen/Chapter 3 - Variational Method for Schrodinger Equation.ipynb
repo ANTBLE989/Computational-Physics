{
 "cells": [
  {
   "cell_type": "markdown",
   "metadata": {},
   "source": [
    "# Chapter 3 - Variational Method for Schrodinger Equation"
   ]
  },
  {
   "cell_type": "code",
   "execution_count": 113,
   "metadata": {},
   "outputs": [],
   "source": [
    "import numpy as np\n",
    "import matplotlib.pyplot as plt"
   ]
  },
  {
   "cell_type": "markdown",
   "metadata": {},
   "source": [
    "## 3.2.1 The infinitely deep potential well\n",
    "\n",
    "The general eigenvalue problem:\n",
    "\n",
    "\\begin{align}\n",
    "H \\bf{C} = E \\bf{SC}\n",
    "\\end{align}\n",
    "\n",
    "Procedures: \n",
    "\n",
    "1. find the $\\bf{V}$ matrix that can transform the overlap matrix $\\bf{S}$ into a unit matrix \n",
    "\\begin{align}\n",
    "\\bf{V}^{\\dagger} \\bf{S} \\bf{V}= \\bf{I}\n",
    "\\end{align}\n",
    "\n",
    "The matrix $\\bf{V}$ can be found if we have a unitary matrix $\\bf{U}$ that can diagonalize $\\bf{S}$ into: \n",
    "\\begin{align}\n",
    "\\bf{U}^{\\dagger} \\bf{S} \\bf{U}= \\bf{s}\n",
    "\\end{align}\n",
    "\n",
    "\\begin{align}\n",
    "\\mathbf{V}^{\\dagger} \\mathbf{S V}=\\mathbf{s}^{-1 / 2} \\mathbf{U}^{\\dagger} \\mathbf{S U S}^{-1 / 2}=\\mathbf{I}\n",
    "\\end{align}\n",
    "Thus, we use $V = \\mathbf{s}^{-1 / 2} \\mathbf{U}$\n",
    "\n",
    "\n",
    "> putting all the orthogonal eigenvectors as columns for P.\n",
    "\n",
    "2. Once we have the matrix $\\bf{V}$, we can calculate the $\\bf{H'}=\\bf{V}^{\\dagger}\\bf{H}\\bf{V}$, and $\\bf{C'} = \\bf{V}^{-1}\\bf{C}$\n",
    "\n",
    "3. Now, we can calculate the ordinary eigenvalue equation:\n",
    "\\begin{align}\n",
    "\\bf{H'C'}=E\\bf{C'}\n",
    "\\end{align}\n"
   ]
  },
  {
   "cell_type": "code",
   "execution_count": 46,
   "metadata": {},
   "outputs": [],
   "source": [
    "from numpy import linalg as LA\n",
    "from scipy.linalg import eigh"
   ]
  },
  {
   "cell_type": "code",
   "execution_count": 60,
   "metadata": {},
   "outputs": [],
   "source": [
    "# overlap matrix \n",
    "\n",
    "def overlap_matrix(m,n):\n",
    "    if (n+m) % 2 == 0:\n",
    "        s = 2/(n+m+5)-4/(n+m+3)+2/(n+m+1)\n",
    "    else:\n",
    "        s = 0\n",
    "    return s \n",
    "\n",
    "def hamiltonian(m,n):\n",
    "    if (n+m) % 2 ==0:\n",
    "        s = -(8*(1-m-n-(2*m*n)))/((m+n+3)*(m+n+1)*(m+n-1))\n",
    "    else:\n",
    "        s = 0\n",
    "    return s"
   ]
  },
  {
   "cell_type": "code",
   "execution_count": 90,
   "metadata": {},
   "outputs": [],
   "source": [
    "Nlist = [5,8,12,16]\n",
    "eigvalist = np.zeros((5,4))\n",
    "for k,N in enumerate(Nlist):\n",
    "    H = np.zeros((N,N))\n",
    "    S = np.zeros((N,N))\n",
    "    for i in range(N):\n",
    "        for j in range(N):\n",
    "            H[i,j] = hamiltonian(i,j)\n",
    "            S[i,j] = overlap_matrix(i,j)\n",
    "\n",
    "    #=====================================\n",
    "    '''\n",
    "    easiest solution is with the use of built-in solver\n",
    "    '''\n",
    "    eigvals2, eigvecs = eigh(H, S, eigvals_only=False)\n",
    "    eigvalist[:,k] = eigvals2.T[:5]\n",
    "#print(eigvalist)"
   ]
  },
  {
   "cell_type": "code",
   "execution_count": 100,
   "metadata": {},
   "outputs": [
    {
     "name": "stdout",
     "output_type": "stream",
     "text": [
      "Check: [[  3.4832 -11.0669  -3.966   -0.       0.    ]\n",
      " [-11.0669  42.9232  14.2424   0.      -0.    ]\n",
      " [ -3.966   14.2424   5.1119   0.      -0.    ]\n",
      " [ -0.       0.       0.       4.0734  -0.7226]\n",
      " [  0.      -0.      -0.      -0.7226   0.1647]]\n",
      "[860.01808683   2.01540936  18.73609612  44.87124428   1.63944533]\n"
     ]
    }
   ],
   "source": [
    "#=====================================\n",
    "'''\n",
    "The hard-way\n",
    "'''\n",
    "N = 5\n",
    "H = np.zeros((N,N))\n",
    "S = np.zeros((N,N))\n",
    "for i in range(N):\n",
    "    for j in range(N):\n",
    "        H[i,j] = hamiltonian(i,j)\n",
    "        S[i,j] = overlap_matrix(i,j)\n",
    "    \n",
    "# first step: calculate the matrix V\n",
    "w, U = LA.eig(S)\n",
    "s = np.linalg.inv(np.diag(np.sqrt(w)))\n",
    "V = np.dot(s,U)\n",
    "\n",
    "print('Check:',np.dot(V.T,np.dot(S,V)).round(4))\n",
    "# second step: determine the H'\n",
    "H_prime = np.dot(V.T,np.dot(H,V))\n",
    "\n",
    "# third step: solve for the eigenvalue problem\n",
    "eigvals1 = np.linalg.eig(H_prime)[0]\n",
    "print(eigvals1)"
   ]
  },
  {
   "cell_type": "markdown",
   "metadata": {},
   "source": [
    "## 3.2.2 Variational calculation for the hydrogen atom"
   ]
  },
  {
   "cell_type": "code",
   "execution_count": 107,
   "metadata": {},
   "outputs": [],
   "source": [
    "p=4\n",
    "q=4\n",
    "a = [13.00773,1.962079,0.444529,0.1219492]\n",
    "S = np.zeros((p,q))\n",
    "H = np.zeros((p,q))\n",
    "\n",
    "for i in range(p):\n",
    "    for j in range(q):\n",
    "        S[i,j] = (np.pi/(a[i]+a[j]))**(3/2)\n",
    "        T = 3*(a[i]*a[j]*np.pi**(3/2))/(a[i]+a[j])**(5/2)\n",
    "        A = -2*np.pi/(a[i]+a[j])\n",
    "        H[i,j] = T + A"
   ]
  },
  {
   "cell_type": "code",
   "execution_count": 110,
   "metadata": {},
   "outputs": [
    {
     "data": {
      "text/plain": [
       "array([-0.49927841,  0.11321392,  2.59229957, 21.14436519])"
      ]
     },
     "execution_count": 110,
     "metadata": {},
     "output_type": "execute_result"
    }
   ],
   "source": [
    "eigvals2, eigvecs = eigh(H, S, eigvals_only=False)\n",
    "eigvals2"
   ]
  },
  {
   "cell_type": "code",
   "execution_count": 115,
   "metadata": {},
   "outputs": [
    {
     "data": {
      "image/png": "[encoded data removed]",
      "text/plain": [
       "<Figure size 432x288 with 1 Axes>"
      ]
     },
     "metadata": {},
     "output_type": "display_data"
    }
   ],
   "source": [
    "for i,t in enumerate(eigvecs):\n",
    "    plt.plot(t)"
   ]
  },
  {
   "cell_type": "code",
   "execution_count": 118,
   "metadata": {},
   "outputs": [
    {
     "data": {
      "text/plain": [
       "[<matplotlib.lines.Line2D at 0x1ff95360cf8>]"
      ]
     },
     "execution_count": 118,
     "metadata": {},
     "output_type": "execute_result"
    },
    {
     "data": {
      "image/png": "[encoded data removed]",
      "text/plain": [
       "<Figure size 432x288 with 1 Axes>"
      ]
     },
     "metadata": {},
     "output_type": "display_data"
    }
   ],
   "source": [
    "r = np.array([1,2,3,4])\n",
    "psi = 2/(0.529)**(3/2)*np.exp(-r/0.529)\n",
    "plt.plot(psi)"
   ]
  },
  {
   "cell_type": "code",
   "execution_count": null,
   "metadata": {},
   "outputs": [],
   "source": []
  }
 ],
 "metadata": {
  "kernelspec": {
   "display_name": "Python 3",
   "language": "python",
   "name": "python3"
  },
  "language_info": {
   "codemirror_mode": {
    "name": "ipython",
    "version": 3
   },
   "file_extension": ".py",
   "mimetype": "text/x-python",
   "name": "python",
   "nbconvert_exporter": "python",
   "pygments_lexer": "ipython3",
   "version": "3.6.5"
  }
 },
 "nbformat": 4,
 "nbformat_minor": 2
}
